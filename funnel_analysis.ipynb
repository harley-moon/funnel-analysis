{
 "cells": [
  {
   "cell_type": "markdown",
   "id": "9ea1d038",
   "metadata": {},
   "source": [
    "- Import packages to run SQL in Jupyter Notebooks.\n",
    "- Upload csv files to create a database on local machine."
   ]
  },
  {
   "cell_type": "code",
   "execution_count": 2,
   "id": "6ab7cadc",
   "metadata": {},
   "outputs": [],
   "source": [
    "import pandas as pd\n",
    "import sqlalchemy"
   ]
  },
  {
   "cell_type": "code",
   "execution_count": 3,
   "id": "c4d9ce2a",
   "metadata": {},
   "outputs": [],
   "source": [
    "engine = sqlalchemy.create_engine('sqlite:////Users/harley/DA_Projects/Project_Databases/EyeglassStore.db')"
   ]
  },
  {
   "cell_type": "code",
   "execution_count": 4,
   "id": "d4cbb697",
   "metadata": {},
   "outputs": [],
   "source": [
    "data = pd.read_csv('/Users/harley/DA_Projects/Datasets/Eyeglass_Store/survey.csv')"
   ]
  },
  {
   "cell_type": "code",
   "execution_count": 5,
   "id": "693d6d2e",
   "metadata": {},
   "outputs": [],
   "source": [
    "data.to_sql(con=engine,name='survey')"
   ]
  },
  {
   "cell_type": "code",
   "execution_count": 6,
   "id": "dff631dd",
   "metadata": {},
   "outputs": [],
   "source": [
    "data = pd.read_csv('/Users/harley/DA_Projects/Datasets/Eyeglass_Store/quiz.csv')"
   ]
  },
  {
   "cell_type": "code",
   "execution_count": 7,
   "id": "7724e310",
   "metadata": {},
   "outputs": [],
   "source": [
    "data.to_sql(con=engine,name='quiz')"
   ]
  },
  {
   "cell_type": "code",
   "execution_count": 8,
   "id": "5af22e65",
   "metadata": {},
   "outputs": [],
   "source": [
    "data = pd.read_csv('/Users/harley/DA_Projects/Datasets/Eyeglass_Store/home_try_on.csv')"
   ]
  },
  {
   "cell_type": "code",
   "execution_count": 9,
   "id": "daedd25d",
   "metadata": {},
   "outputs": [],
   "source": [
    "data.to_sql(con=engine,name='home_try_on')"
   ]
  },
  {
   "cell_type": "code",
   "execution_count": 10,
   "id": "dca34b14",
   "metadata": {},
   "outputs": [],
   "source": [
    "data = pd.read_csv('/Users/harley/DA_Projects/Datasets/Eyeglass_Store/purchase.csv')"
   ]
  },
  {
   "cell_type": "code",
   "execution_count": 11,
   "id": "8310f9a4",
   "metadata": {},
   "outputs": [],
   "source": [
    "data.to_sql(con=engine,name='purchase')"
   ]
  },
  {
   "cell_type": "markdown",
   "id": "db490d8f",
   "metadata": {},
   "source": [
    " "
   ]
  },
  {
   "cell_type": "markdown",
   "id": "068bc9be",
   "metadata": {},
   "source": [
    "- Load extension to run SQL queries.\n",
    "- Open Eyeglass Store database. "
   ]
  },
  {
   "cell_type": "code",
   "execution_count": 12,
   "id": "2c31326d",
   "metadata": {},
   "outputs": [],
   "source": [
    "%load_ext sql"
   ]
  },
  {
   "cell_type": "code",
   "execution_count": 13,
   "id": "2ec974f3",
   "metadata": {},
   "outputs": [],
   "source": [
    "%sql sqlite:////Users/harley/DA_Projects/Project_Databases/EyeglassStore.db"
   ]
  },
  {
   "cell_type": "markdown",
   "id": "bcb7e820",
   "metadata": {},
   "source": [
    " "
   ]
  },
  {
   "cell_type": "markdown",
   "id": "c1a25468",
   "metadata": {},
   "source": [
    "- Analysis of Style Quiz Funnel to calculate conversion rates (cvr). \n",
    "- This query calculates the percentage of users who answered each question in the style quiz.\n",
    "    - Q5 (When was your last eye exam?) had the lowest completion rate at 54%. \n",
    "    - This is most likely because users do not remember the date of their last eye exam off hand. \n",
    "    - To increase the user response rate, questions should pertain to personal preferences."
   ]
  },
  {
   "cell_type": "code",
   "execution_count": 19,
   "id": "04315bcf",
   "metadata": {},
   "outputs": [
    {
     "name": "stdout",
     "output_type": "stream",
     "text": [
      " * sqlite:////Users/harley/DA_Projects/Project_Databases/EyeglassStore.db\n",
      "Done.\n"
     ]
    },
    {
     "data": {
      "text/html": [
       "<table>\n",
       "    <tr>\n",
       "        <th>question</th>\n",
       "        <th>num_responses</th>\n",
       "        <th>cvr</th>\n",
       "    </tr>\n",
       "    <tr>\n",
       "        <td>1. What are you looking for?</td>\n",
       "        <td>500</td>\n",
       "        <td>100.0</td>\n",
       "    </tr>\n",
       "    <tr>\n",
       "        <td>2. What&#x27;s your fit?</td>\n",
       "        <td>475</td>\n",
       "        <td>95.0</td>\n",
       "    </tr>\n",
       "    <tr>\n",
       "        <td>3. How old are you?</td>\n",
       "        <td>380</td>\n",
       "        <td>76.0</td>\n",
       "    </tr>\n",
       "    <tr>\n",
       "        <td>4. Which colors do you like?</td>\n",
       "        <td>361</td>\n",
       "        <td>72.2</td>\n",
       "    </tr>\n",
       "    <tr>\n",
       "        <td>5. When was your last eye exam?</td>\n",
       "        <td>270</td>\n",
       "        <td>54.0</td>\n",
       "    </tr>\n",
       "</table>"
      ],
      "text/plain": [
       "[('1. What are you looking for?', 500, 100.0),\n",
       " (\"2. What's your fit?\", 475, 95.0),\n",
       " ('3. How old are you?', 380, 76.0),\n",
       " ('4. Which colors do you like?', 361, 72.2),\n",
       " ('5. When was your last eye exam?', 270, 54.0)]"
      ]
     },
     "execution_count": 19,
     "metadata": {},
     "output_type": "execute_result"
    }
   ],
   "source": [
    "%%sql\n",
    "\n",
    "SELECT question,\n",
    "    COUNT(*) AS 'num_responses',\n",
    "    100.0 * COUNT(*) / 500.0 AS 'cvr'\n",
    "FROM survey\n",
    "GROUP BY 1"
   ]
  },
  {
   "cell_type": "markdown",
   "id": "617b3e85",
   "metadata": {},
   "source": [
    " "
   ]
  },
  {
   "cell_type": "markdown",
   "id": "88949d3a",
   "metadata": {},
   "source": [
    "- Creation of new table where each record represents a single user and the following attributes: \n",
    "    - Home try-on completion (TRUE/FALSE)\n",
    "    - Number of pairs received (3 pairs/5 pairs)\n",
    "    - Purchase completion (TRUE/FALSE)"
   ]
  },
  {
   "cell_type": "code",
   "execution_count": 25,
   "id": "209e50e4",
   "metadata": {},
   "outputs": [
    {
     "name": "stdout",
     "output_type": "stream",
     "text": [
      " * sqlite:////Users/harley/DA_Projects/Project_Databases/EyeglassStore.db\n",
      "Done.\n"
     ]
    },
    {
     "data": {
      "text/html": [
       "<table>\n",
       "    <tr>\n",
       "        <th>user_id</th>\n",
       "        <th>is_home_try_on</th>\n",
       "        <th>num_pairs</th>\n",
       "        <th>is_purchase</th>\n",
       "    </tr>\n",
       "    <tr>\n",
       "        <td>4e8118dc-bb3d-49bf-85fc-cca8d83232ac</td>\n",
       "        <td>1</td>\n",
       "        <td>3 pairs</td>\n",
       "        <td>0</td>\n",
       "    </tr>\n",
       "    <tr>\n",
       "        <td>291f1cca-e507-48be-b063-002b14906468</td>\n",
       "        <td>1</td>\n",
       "        <td>3 pairs</td>\n",
       "        <td>1</td>\n",
       "    </tr>\n",
       "    <tr>\n",
       "        <td>75122300-0736-4087-b6d8-c0c5373a1a04</td>\n",
       "        <td>0</td>\n",
       "        <td>None</td>\n",
       "        <td>0</td>\n",
       "    </tr>\n",
       "    <tr>\n",
       "        <td>75bc6ebd-40cd-4e1d-a301-27ddd93b12e2</td>\n",
       "        <td>1</td>\n",
       "        <td>5 pairs</td>\n",
       "        <td>0</td>\n",
       "    </tr>\n",
       "    <tr>\n",
       "        <td>ce965c4d-7a2b-4db6-9847-601747fa7812</td>\n",
       "        <td>1</td>\n",
       "        <td>3 pairs</td>\n",
       "        <td>1</td>\n",
       "    </tr>\n",
       "</table>"
      ],
      "text/plain": [
       "[('4e8118dc-bb3d-49bf-85fc-cca8d83232ac', 1, '3 pairs', 0),\n",
       " ('291f1cca-e507-48be-b063-002b14906468', 1, '3 pairs', 1),\n",
       " ('75122300-0736-4087-b6d8-c0c5373a1a04', 0, None, 0),\n",
       " ('75bc6ebd-40cd-4e1d-a301-27ddd93b12e2', 1, '5 pairs', 0),\n",
       " ('ce965c4d-7a2b-4db6-9847-601747fa7812', 1, '3 pairs', 1)]"
      ]
     },
     "execution_count": 25,
     "metadata": {},
     "output_type": "execute_result"
    }
   ],
   "source": [
    "%%sql\n",
    "\n",
    "SELECT DISTINCT q.user_id,\n",
    "    h.user_id IS NOT NULL AS 'is_home_try_on',\n",
    "    h.number_of_pairs AS 'num_pairs',\n",
    "    p.user_id IS NOT NULL AS 'is_purchase'\n",
    "FROM quiz q\n",
    "LEFT JOIN home_try_on h\n",
    "    ON q.user_id = h.user_id\n",
    "LEFT JOIN purchase p\n",
    "    ON q.user_id = p.user_id\n",
    "LIMIT 5"
   ]
  },
  {
   "cell_type": "markdown",
   "id": "948c4012",
   "metadata": {},
   "source": [
    " "
   ]
  },
  {
   "cell_type": "markdown",
   "id": "4d173f22",
   "metadata": {},
   "source": [
    "- A/B test using above table as a temporary table to determine whether receiving 3 pairs or 5 pairs of glasses is more likely to result in a purchase.\n",
    "    - 59.39% of users who received 5 pairs made a purchase.\n",
    "    - 40.61% of users who received 3 pairs made a purchase.\n",
    "    - This shows a positive correlation between receiving more pairs of glasses and making a purchase."
   ]
  },
  {
   "cell_type": "code",
   "execution_count": 21,
   "id": "a269b0a1",
   "metadata": {},
   "outputs": [
    {
     "name": "stdout",
     "output_type": "stream",
     "text": [
      " * sqlite:////Users/harley/DA_Projects/Project_Databases/EyeglassStore.db\n",
      "Done.\n"
     ]
    },
    {
     "data": {
      "text/html": [
       "<table>\n",
       "    <tr>\n",
       "        <th>3_pair_purchase</th>\n",
       "        <th>3_pair_purchase_%</th>\n",
       "        <th>5_pair_purchase</th>\n",
       "        <th>5_pair_purchase_%</th>\n",
       "    </tr>\n",
       "    <tr>\n",
       "        <td>201</td>\n",
       "        <td>40.61</td>\n",
       "        <td>294</td>\n",
       "        <td>59.39</td>\n",
       "    </tr>\n",
       "</table>"
      ],
      "text/plain": [
       "[(201, 40.61, 294, 59.39)]"
      ]
     },
     "execution_count": 21,
     "metadata": {},
     "output_type": "execute_result"
    }
   ],
   "source": [
    "%%sql\n",
    "\n",
    "WITH funnel AS (\n",
    "    SELECT DISTINCT q.user_id,\n",
    "    h.user_id IS NOT NULL AS 'is_home_try_on',\n",
    "    h.number_of_pairs,\n",
    "    p.user_id IS NOT NULL AS 'is_purchase'\n",
    "FROM quiz q\n",
    "LEFT JOIN home_try_on h\n",
    "    ON q.user_id = h.user_id\n",
    "LEFT JOIN purchase p\n",
    "    ON q.user_id = p.user_id\n",
    ")\n",
    "SELECT COUNT(DISTINCT CASE\n",
    "        WHEN number_of_pairs = '3 pairs' AND is_purchase = 1 THEN user_id END) AS '3_pair_purchase',\n",
    "    ROUND((201.0 / 495.0) * 100.0, 2) AS '3_pair_purchase_%',\n",
    "    COUNT(DISTINCT CASE\n",
    "         WHEN number_of_pairs = '5 pairs' AND is_purchase = 1 THEN user_id END) AS '5_pair_purchase',\n",
    "    ROUND((294.0 / 495.0) * 100.0, 2) AS '5_pair_purchase_%'\n",
    "FROM funnel"
   ]
  },
  {
   "cell_type": "markdown",
   "id": "4b6540b5",
   "metadata": {},
   "source": [
    " "
   ]
  },
  {
   "cell_type": "markdown",
   "id": "f3170058",
   "metadata": {},
   "source": [
    "- Analysis of Home Try-On Funnel to calculate conversion rates. \n",
    "    - Out of 1000 initial users who took the style quiz, 750 completed the home try-on, and 495 made a purchase.\n",
    "    - 75% of users advanced from style quiz phase to home try-on phase.\n",
    "    - 66% of users advanced from home try-on phase to purchase phase. "
   ]
  },
  {
   "cell_type": "code",
   "execution_count": 22,
   "id": "96350163",
   "metadata": {},
   "outputs": [
    {
     "name": "stdout",
     "output_type": "stream",
     "text": [
      " * sqlite:////Users/harley/DA_Projects/Project_Databases/EyeglassStore.db\n",
      "Done.\n"
     ]
    },
    {
     "data": {
      "text/html": [
       "<table>\n",
       "    <tr>\n",
       "        <th>num_quiz</th>\n",
       "        <th>num_try_on</th>\n",
       "        <th>num_purchase</th>\n",
       "        <th>quiz_to_try_on_cvr</th>\n",
       "        <th>try_on_to_purchase_cvr</th>\n",
       "    </tr>\n",
       "    <tr>\n",
       "        <td>1000</td>\n",
       "        <td>750</td>\n",
       "        <td>495</td>\n",
       "        <td>75.0</td>\n",
       "        <td>66.0</td>\n",
       "    </tr>\n",
       "</table>"
      ],
      "text/plain": [
       "[(1000, 750, 495, 75.0, 66.0)]"
      ]
     },
     "execution_count": 22,
     "metadata": {},
     "output_type": "execute_result"
    }
   ],
   "source": [
    "%%sql\n",
    "\n",
    "WITH funnel AS (\n",
    "    SELECT DISTINCT q.user_id,\n",
    "    h.user_id IS NOT NULL AS 'is_home_try_on',\n",
    "    h.number_of_pairs,\n",
    "    p.user_id IS NOT NULL AS 'is_purchase'\n",
    "FROM quiz q\n",
    "LEFT JOIN home_try_on h\n",
    "    ON q.user_id = h.user_id\n",
    "LEFT JOIN purchase p\n",
    "    ON q.user_id = p.user_id\n",
    ")\n",
    "SELECT COUNT(*) AS 'num_quiz',\n",
    "    SUM(is_home_try_on) AS 'num_try_on',\n",
    "    SUM(is_purchase) AS 'num_purchase',\n",
    "    100.0 * SUM(is_home_try_on) / COUNT(*) AS 'quiz_to_try_on_cvr',\n",
    "    100.0 * SUM(is_purchase) / SUM(is_home_try_on) AS 'try_on_to_purchase_cvr'\n",
    "FROM funnel"
   ]
  }
 ],
 "metadata": {
  "kernelspec": {
   "display_name": "Python 3 (ipykernel)",
   "language": "python",
   "name": "python3"
  },
  "language_info": {
   "codemirror_mode": {
    "name": "ipython",
    "version": 3
   },
   "file_extension": ".py",
   "mimetype": "text/x-python",
   "name": "python",
   "nbconvert_exporter": "python",
   "pygments_lexer": "ipython3",
   "version": "3.9.7"
  }
 },
 "nbformat": 4,
 "nbformat_minor": 5
}
